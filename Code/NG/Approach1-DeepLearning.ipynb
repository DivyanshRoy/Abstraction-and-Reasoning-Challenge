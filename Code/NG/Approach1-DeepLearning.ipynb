{
 "cells": [
  {
   "cell_type": "code",
   "execution_count": null,
   "metadata": {},
   "outputs": [],
   "source": [
    "import numpy as np\n",
    "import json\n",
    "import matplotlib.pyplot as plt\n",
    "import matplotlib as mpl\n",
    "import seaborn as sb\n",
    "import os\n",
    "from os import listdir\n",
    "from os.path import isfile, join\n",
    "from enum import Enum\n",
    "%load_ext autoreload\n",
    "%autoreload 2\n",
    "from ExtractInfoFromGrid import *\n",
    "from DatasetVisualization import *\n",
    "import torch\n",
    "import torch.nn as nn\n",
    "import torch.nn.functional as F\n",
    "from torch.autograd import Variable"
   ]
  },
  {
   "cell_type": "code",
   "execution_count": 6,
   "metadata": {},
   "outputs": [
    {
     "name": "stdout",
     "output_type": "stream",
     "text": [
      "Total files are 26\n"
     ]
    }
   ],
   "source": [
    "def allExamplesOfSameDimension (train_list):\n",
    "    for example in train_list:\n",
    "        ip = example['input']\n",
    "        op = example['output']\n",
    "        if (np.array(ip).shape != np.array(train_list[0]['input']).shape or\n",
    "            np.array(op).shape != np.array(train_list[0]['output']).shape):\n",
    "            return False\n",
    "        \n",
    "    return True\n",
    "\n",
    "mypath = '../ARC_Dataset/mini_training/OP_EQUAL_IP/Non Colored Dataset/'\n",
    "files = [join(mypath, f) for f in listdir(mypath) if isfile(join(mypath, f))]\n",
    "files.sort()\n",
    "k = 0\n",
    "batch_size = len(files)\n",
    "start = k * batch_size\n",
    "end = start + batch_size\n",
    "#random_order = np.random.permutation(batch_size)\n",
    "random_order = np.arange(batch_size)\n",
    "random_files = [files[idx] for idx in random_order]\n",
    "\n",
    "random_files_consistent_size = []\n",
    "for filename in random_files:\n",
    "    train_list, test_list = read_single_training_example(filename)\n",
    "    if (not allExamplesOfSameDimension(train_list)):\n",
    "        continue\n",
    "    random_files_consistent_size.append(filename)\n",
    "print('Total files are ' + str(len(random_files_consistent_size)))"
   ]
  },
  {
   "cell_type": "code",
   "execution_count": 7,
   "metadata": {},
   "outputs": [
    {
     "data": {
      "text/plain": [
       "['../ARC_Dataset/mini_training/OP_EQUAL_IP/Non Colored Dataset/045e512c.json',\n",
       " '../ARC_Dataset/mini_training/OP_EQUAL_IP/Non Colored Dataset/0962bcdd.json',\n",
       " '../ARC_Dataset/mini_training/OP_EQUAL_IP/Non Colored Dataset/1b60fb0c.json',\n",
       " '../ARC_Dataset/mini_training/OP_EQUAL_IP/Non Colored Dataset/1bfc4729.json',\n",
       " '../ARC_Dataset/mini_training/OP_EQUAL_IP/Non Colored Dataset/1e32b0e9.json',\n",
       " '../ARC_Dataset/mini_training/OP_EQUAL_IP/Non Colored Dataset/2281f1f4.json',\n",
       " '../ARC_Dataset/mini_training/OP_EQUAL_IP/Non Colored Dataset/25ff71a9.json',\n",
       " '../ARC_Dataset/mini_training/OP_EQUAL_IP/Non Colored Dataset/29c11459.json',\n",
       " '../ARC_Dataset/mini_training/OP_EQUAL_IP/Non Colored Dataset/3906de3d.json',\n",
       " '../ARC_Dataset/mini_training/OP_EQUAL_IP/Non Colored Dataset/3aa6fb7a.json',\n",
       " '../ARC_Dataset/mini_training/OP_EQUAL_IP/Non Colored Dataset/3befdf3e.json',\n",
       " '../ARC_Dataset/mini_training/OP_EQUAL_IP/Non Colored Dataset/4093f84a.json',\n",
       " '../ARC_Dataset/mini_training/OP_EQUAL_IP/Non Colored Dataset/4258a5f9.json',\n",
       " '../ARC_Dataset/mini_training/OP_EQUAL_IP/Non Colored Dataset/447fd412.json',\n",
       " '../ARC_Dataset/mini_training/OP_EQUAL_IP/Non Colored Dataset/508bd3b6.json',\n",
       " '../ARC_Dataset/mini_training/OP_EQUAL_IP/Non Colored Dataset/5c2c9af4.json',\n",
       " '../ARC_Dataset/mini_training/OP_EQUAL_IP/Non Colored Dataset/60b61512.json',\n",
       " '../ARC_Dataset/mini_training/OP_EQUAL_IP/Non Colored Dataset/6c434453.json',\n",
       " '../ARC_Dataset/mini_training/OP_EQUAL_IP/Non Colored Dataset/6e19193c.json',\n",
       " '../ARC_Dataset/mini_training/OP_EQUAL_IP/Non Colored Dataset/760b3cac.json',\n",
       " '../ARC_Dataset/mini_training/OP_EQUAL_IP/Non Colored Dataset/7ddcd7ec.json',\n",
       " '../ARC_Dataset/mini_training/OP_EQUAL_IP/Non Colored Dataset/8f2ea7aa.json',\n",
       " '../ARC_Dataset/mini_training/OP_EQUAL_IP/Non Colored Dataset/90f3ed37.json',\n",
       " '../ARC_Dataset/mini_training/OP_EQUAL_IP/Non Colored Dataset/93b581b8.json',\n",
       " '../ARC_Dataset/mini_training/OP_EQUAL_IP/Non Colored Dataset/952a094c.json',\n",
       " '../ARC_Dataset/mini_training/OP_EQUAL_IP/Non Colored Dataset/9d9215db.json']"
      ]
     },
     "execution_count": 7,
     "metadata": {},
     "output_type": "execute_result"
    }
   ],
   "source": [
    "random_files_consistent_size"
   ]
  },
  {
   "cell_type": "code",
   "execution_count": 11,
   "metadata": {
    "scrolled": false
   },
   "outputs": [
    {
     "data": {
      "image/png": "[encoded data removed]",
      "text/plain": [
       "<Figure size 648x648 with 2 Axes>"
      ]
     },
     "metadata": {
      "needs_background": "light"
     },
     "output_type": "display_data"
    },
    {
     "data": {
      "image/png": "[encoded data removed]",
      "text/plain": [
       "<Figure size 648x648 with 2 Axes>"
      ]
     },
     "metadata": {
      "needs_background": "light"
     },
     "output_type": "display_data"
    },
    {
     "data": {
      "image/png": "[encoded data removed]",
      "text/plain": [
       "<Figure size 648x648 with 2 Axes>"
      ]
     },
     "metadata": {
      "needs_background": "light"
     },
     "output_type": "display_data"
    }
   ],
   "source": [
    "exampleFile = [random_files_consistent_size[12]]\n",
    "for filename in exampleFile:\n",
    "    train_list, test_list = read_single_training_example(filename)\n",
    "    show_single_training_example_visually(train_list, test_list, filename, removeColorAsp=True)"
   ]
  },
  {
   "cell_type": "code",
   "execution_count": 29,
   "metadata": {},
   "outputs": [],
   "source": [
    "def augmentData(jsonFilePath, removeColorAsp):\n",
    "    train_list, test_list = read_single_training_example(filename)\n",
    "    training_data = []\n",
    "    for pair in train_list:\n",
    "        inp = np.array(pair['input'])\n",
    "        op = np.array(pair['output'])\n",
    "        if removeColorAsp == True:\n",
    "            #There should be 2 colors only. Lets say ON and OFF\n",
    "            ON = 9\n",
    "            OFF = 0\n",
    "            inp[inp != 0] = ON\n",
    "            op[op != 0] = ON\n",
    "            assert np.logical_or(inp == ON, inp == OFF).all() == True, \"It should have only 2 type of values\"\n",
    "            assert np.logical_or(op == ON, op == OFF).all() == True, \"It should have only 2 type of values\"\n",
    "            for newON in np.arange(10):\n",
    "                for newOFF in np.arange(10):\n",
    "                    if (newON == newOFF):\n",
    "                        continue\n",
    "                    newInp = np.zeros(inp.shape)\n",
    "                    newInp[inp == ON] = newON\n",
    "                    newInp[inp == OFF] = newOFF\n",
    "                    newOp = np.zeros(op.shape)\n",
    "                    newOp[op == ON] = newON\n",
    "                    newOp[op == OFF] = newOFF\n",
    "                    #We have a pair newIn -> newOp\n",
    "                    training_data.append({'input': newInp, 'output': newOp})\n",
    "    \n",
    "    test_data = test_list #As it is\n",
    "    return training_data, test_data"
   ]
  },
  {
   "cell_type": "code",
   "execution_count": 31,
   "metadata": {},
   "outputs": [],
   "source": [
    "jsonFilePath = random_files_consistent_size[12]\n",
    "training_data, test_data = augmentData(jsonFilePath, True)\n",
    "#print(len(training_data))\n",
    "#print(training_data)"
   ]
  },
  {
   "cell_type": "code",
   "execution_count": null,
   "metadata": {},
   "outputs": [],
   "source": [
    "class ARC(nn.Module):\n",
    "    def __init__(self):\n",
    "        super(ARC, self).__init__()\n",
    "        self.conv3x3_0 = nn.Conv2d(1, 1, 3, padding=1)\n",
    "        self.sigmoid_0 = nn.Sigmoid()\n",
    "    \n",
    "    def forward(self, inputs):\n",
    "        outputs = self.conv3x3_0(inputs)\n",
    "        outputs = self.sigmoid_0(outputs)\n",
    "        return outputs"
   ]
  },
  {
   "cell_type": "code",
   "execution_count": 134,
   "metadata": {},
   "outputs": [
    {
     "name": "stdout",
     "output_type": "stream",
     "text": [
      "Parameter containing:\n",
      "tensor([[-0.0052,  0.3258,  0.3182, -0.1395,  0.0302,  0.1585,  0.2707, -0.0672,\n",
      "         -0.1143],\n",
      "        [-0.1484,  0.2899,  0.0320,  0.1650,  0.0174, -0.1379,  0.1011, -0.2345,\n",
      "         -0.3314],\n",
      "        [-0.0800,  0.1107, -0.0695,  0.2663,  0.3250, -0.3320,  0.2790,  0.1705,\n",
      "          0.1215],\n",
      "        [-0.0576,  0.2013, -0.0821,  0.2761, -0.2019,  0.1926, -0.0301, -0.0646,\n",
      "         -0.0938],\n",
      "        [-0.0461,  0.3081, -0.1893,  0.2693, -0.1092, -0.2674, -0.2047,  0.0671,\n",
      "          0.1970],\n",
      "        [-0.1944,  0.3172,  0.2286,  0.0528,  0.2757,  0.1682,  0.0214,  0.1242,\n",
      "          0.0225],\n",
      "        [-0.0024, -0.0249, -0.1413, -0.0835,  0.1082, -0.1648, -0.0959, -0.2034,\n",
      "          0.2261],\n",
      "        [-0.1835, -0.0682, -0.2183,  0.2939, -0.2585, -0.0180,  0.1303,  0.0915,\n",
      "          0.1739],\n",
      "        [-0.3238,  0.3221, -0.1728, -0.0452, -0.0731,  0.2222, -0.0280, -0.1694,\n",
      "          0.2513]], requires_grad=True)\n",
      "it: 0, loss: 22.0\n",
      "Parameter containing:\n",
      "tensor([[-0.0052,  0.3258,  0.3182, -0.1395,  0.0302,  0.1585,  0.2707, -0.0672,\n",
      "         -0.1143],\n",
      "        [-0.1484,  0.2899,  0.0320,  0.1650,  0.0174, -0.1379,  0.1011, -0.2345,\n",
      "         -0.3314],\n",
      "        [-0.0800,  0.1107, -0.0695,  0.2663,  0.3250, -0.3320,  0.2790,  0.1705,\n",
      "          0.1215],\n",
      "        [-0.0576,  0.2013, -0.0821,  0.2761, -0.2019,  0.1926, -0.0301, -0.0646,\n",
      "         -0.0938],\n",
      "        [-0.0461,  0.3081, -0.1893,  0.2693, -0.1092, -0.2674, -0.2047,  0.0671,\n",
      "          0.1970],\n",
      "        [-0.1944,  0.3172,  0.2286,  0.0528,  0.2757,  0.1682,  0.0214,  0.1242,\n",
      "          0.0225],\n",
      "        [-0.0024, -0.0249, -0.1413, -0.0835,  0.1082, -0.1648, -0.0959, -0.2034,\n",
      "          0.2261],\n",
      "        [-0.1835, -0.0682, -0.2183,  0.2939, -0.2585, -0.0180,  0.1303,  0.0915,\n",
      "          0.1739],\n",
      "        [-0.3238,  0.3221, -0.1728, -0.0452, -0.0731,  0.2222, -0.0280, -0.1694,\n",
      "          0.2513]], requires_grad=True)\n",
      "it: 1, loss: 22.0\n",
      "Parameter containing:\n",
      "tensor([[-0.0052,  0.3258,  0.3182, -0.1395,  0.0302,  0.1585,  0.2707, -0.0672,\n",
      "         -0.1143],\n",
      "        [-0.1484,  0.2899,  0.0320,  0.1650,  0.0174, -0.1379,  0.1011, -0.2345,\n",
      "         -0.3314],\n",
      "        [-0.0800,  0.1107, -0.0695,  0.2663,  0.3250, -0.3320,  0.2790,  0.1705,\n",
      "          0.1215],\n",
      "        [-0.0576,  0.2013, -0.0821,  0.2761, -0.2019,  0.1926, -0.0301, -0.0646,\n",
      "         -0.0938],\n",
      "        [-0.0461,  0.3081, -0.1893,  0.2693, -0.1092, -0.2674, -0.2047,  0.0671,\n",
      "          0.1970],\n",
      "        [-0.1944,  0.3172,  0.2286,  0.0528,  0.2757,  0.1682,  0.0214,  0.1242,\n",
      "          0.0225],\n",
      "        [-0.0024, -0.0249, -0.1413, -0.0835,  0.1082, -0.1648, -0.0959, -0.2034,\n",
      "          0.2261],\n",
      "        [-0.1835, -0.0682, -0.2183,  0.2939, -0.2585, -0.0180,  0.1303,  0.0915,\n",
      "          0.1739],\n",
      "        [-0.3238,  0.3221, -0.1728, -0.0452, -0.0731,  0.2222, -0.0280, -0.1694,\n",
      "          0.2513]], requires_grad=True)\n",
      "it: 2, loss: 22.0\n",
      "Parameter containing:\n",
      "tensor([[-0.0052,  0.3258,  0.3182, -0.1395,  0.0302,  0.1585,  0.2707, -0.0672,\n",
      "         -0.1143],\n",
      "        [-0.1484,  0.2899,  0.0320,  0.1650,  0.0174, -0.1379,  0.1011, -0.2345,\n",
      "         -0.3314],\n",
      "        [-0.0800,  0.1107, -0.0695,  0.2663,  0.3250, -0.3320,  0.2790,  0.1705,\n",
      "          0.1215],\n",
      "        [-0.0576,  0.2013, -0.0821,  0.2761, -0.2019,  0.1926, -0.0301, -0.0646,\n",
      "         -0.0938],\n",
      "        [-0.0461,  0.3081, -0.1893,  0.2693, -0.1092, -0.2674, -0.2047,  0.0671,\n",
      "          0.1970],\n",
      "        [-0.1944,  0.3172,  0.2286,  0.0528,  0.2757,  0.1682,  0.0214,  0.1242,\n",
      "          0.0225],\n",
      "        [-0.0024, -0.0249, -0.1413, -0.0835,  0.1082, -0.1648, -0.0959, -0.2034,\n",
      "          0.2261],\n",
      "        [-0.1835, -0.0682, -0.2183,  0.2939, -0.2585, -0.0180,  0.1303,  0.0915,\n",
      "          0.1739],\n",
      "        [-0.3238,  0.3221, -0.1728, -0.0452, -0.0731,  0.2222, -0.0280, -0.1694,\n",
      "          0.2513]], requires_grad=True)\n",
      "it: 3, loss: 22.0\n",
      "Parameter containing:\n",
      "tensor([[-0.0052,  0.3258,  0.3182, -0.1395,  0.0302,  0.1585,  0.2707, -0.0672,\n",
      "         -0.1143],\n",
      "        [-0.1484,  0.2899,  0.0320,  0.1650,  0.0174, -0.1379,  0.1011, -0.2345,\n",
      "         -0.3314],\n",
      "        [-0.0800,  0.1107, -0.0695,  0.2663,  0.3250, -0.3320,  0.2790,  0.1705,\n",
      "          0.1215],\n",
      "        [-0.0576,  0.2013, -0.0821,  0.2761, -0.2019,  0.1926, -0.0301, -0.0646,\n",
      "         -0.0938],\n",
      "        [-0.0461,  0.3081, -0.1893,  0.2693, -0.1092, -0.2674, -0.2047,  0.0671,\n",
      "          0.1970],\n",
      "        [-0.1944,  0.3172,  0.2286,  0.0528,  0.2757,  0.1682,  0.0214,  0.1242,\n",
      "          0.0225],\n",
      "        [-0.0024, -0.0249, -0.1413, -0.0835,  0.1082, -0.1648, -0.0959, -0.2034,\n",
      "          0.2261],\n",
      "        [-0.1835, -0.0682, -0.2183,  0.2939, -0.2585, -0.0180,  0.1303,  0.0915,\n",
      "          0.1739],\n",
      "        [-0.3238,  0.3221, -0.1728, -0.0452, -0.0731,  0.2222, -0.0280, -0.1694,\n",
      "          0.2513]], requires_grad=True)\n",
      "it: 4, loss: 22.0\n",
      "Parameter containing:\n",
      "tensor([[-0.0052,  0.3258,  0.3182, -0.1395,  0.0302,  0.1585,  0.2707, -0.0672,\n",
      "         -0.1143],\n",
      "        [-0.1484,  0.2899,  0.0320,  0.1650,  0.0174, -0.1379,  0.1011, -0.2345,\n",
      "         -0.3314],\n",
      "        [-0.0800,  0.1107, -0.0695,  0.2663,  0.3250, -0.3320,  0.2790,  0.1705,\n",
      "          0.1215],\n",
      "        [-0.0576,  0.2013, -0.0821,  0.2761, -0.2019,  0.1926, -0.0301, -0.0646,\n",
      "         -0.0938],\n",
      "        [-0.0461,  0.3081, -0.1893,  0.2693, -0.1092, -0.2674, -0.2047,  0.0671,\n",
      "          0.1970],\n",
      "        [-0.1944,  0.3172,  0.2286,  0.0528,  0.2757,  0.1682,  0.0214,  0.1242,\n",
      "          0.0225],\n",
      "        [-0.0024, -0.0249, -0.1413, -0.0835,  0.1082, -0.1648, -0.0959, -0.2034,\n",
      "          0.2261],\n",
      "        [-0.1835, -0.0682, -0.2183,  0.2939, -0.2585, -0.0180,  0.1303,  0.0915,\n",
      "          0.1739],\n",
      "        [-0.3238,  0.3221, -0.1728, -0.0452, -0.0731,  0.2222, -0.0280, -0.1694,\n",
      "          0.2513]], requires_grad=True)\n",
      "it: 5, loss: 22.0\n",
      "Parameter containing:\n",
      "tensor([[-0.0052,  0.3258,  0.3182, -0.1395,  0.0302,  0.1585,  0.2707, -0.0672,\n",
      "         -0.1143],\n",
      "        [-0.1484,  0.2899,  0.0320,  0.1650,  0.0174, -0.1379,  0.1011, -0.2345,\n",
      "         -0.3314],\n",
      "        [-0.0800,  0.1107, -0.0695,  0.2663,  0.3250, -0.3320,  0.2790,  0.1705,\n",
      "          0.1215],\n",
      "        [-0.0576,  0.2013, -0.0821,  0.2761, -0.2019,  0.1926, -0.0301, -0.0646,\n",
      "         -0.0938],\n",
      "        [-0.0461,  0.3081, -0.1893,  0.2693, -0.1092, -0.2674, -0.2047,  0.0671,\n",
      "          0.1970],\n",
      "        [-0.1944,  0.3172,  0.2286,  0.0528,  0.2757,  0.1682,  0.0214,  0.1242,\n",
      "          0.0225],\n",
      "        [-0.0024, -0.0249, -0.1413, -0.0835,  0.1082, -0.1648, -0.0959, -0.2034,\n",
      "          0.2261],\n",
      "        [-0.1835, -0.0682, -0.2183,  0.2939, -0.2585, -0.0180,  0.1303,  0.0915,\n",
      "          0.1739],\n",
      "        [-0.3238,  0.3221, -0.1728, -0.0452, -0.0731,  0.2222, -0.0280, -0.1694,\n",
      "          0.2513]], requires_grad=True)\n",
      "it: 6, loss: 22.0\n",
      "Parameter containing:\n",
      "tensor([[-0.0052,  0.3258,  0.3182, -0.1395,  0.0302,  0.1585,  0.2707, -0.0672,\n",
      "         -0.1143],\n",
      "        [-0.1484,  0.2899,  0.0320,  0.1650,  0.0174, -0.1379,  0.1011, -0.2345,\n",
      "         -0.3314],\n",
      "        [-0.0800,  0.1107, -0.0695,  0.2663,  0.3250, -0.3320,  0.2790,  0.1705,\n",
      "          0.1215],\n",
      "        [-0.0576,  0.2013, -0.0821,  0.2761, -0.2019,  0.1926, -0.0301, -0.0646,\n",
      "         -0.0938],\n",
      "        [-0.0461,  0.3081, -0.1893,  0.2693, -0.1092, -0.2674, -0.2047,  0.0671,\n",
      "          0.1970],\n",
      "        [-0.1944,  0.3172,  0.2286,  0.0528,  0.2757,  0.1682,  0.0214,  0.1242,\n",
      "          0.0225],\n",
      "        [-0.0024, -0.0249, -0.1413, -0.0835,  0.1082, -0.1648, -0.0959, -0.2034,\n",
      "          0.2261],\n",
      "        [-0.1835, -0.0682, -0.2183,  0.2939, -0.2585, -0.0180,  0.1303,  0.0915,\n",
      "          0.1739],\n",
      "        [-0.3238,  0.3221, -0.1728, -0.0452, -0.0731,  0.2222, -0.0280, -0.1694,\n",
      "          0.2513]], requires_grad=True)\n",
      "it: 7, loss: 22.0\n",
      "Parameter containing:\n",
      "tensor([[-0.0052,  0.3258,  0.3182, -0.1395,  0.0302,  0.1585,  0.2707, -0.0672,\n",
      "         -0.1143],\n",
      "        [-0.1484,  0.2899,  0.0320,  0.1650,  0.0174, -0.1379,  0.1011, -0.2345,\n",
      "         -0.3314],\n",
      "        [-0.0800,  0.1107, -0.0695,  0.2663,  0.3250, -0.3320,  0.2790,  0.1705,\n",
      "          0.1215],\n",
      "        [-0.0576,  0.2013, -0.0821,  0.2761, -0.2019,  0.1926, -0.0301, -0.0646,\n",
      "         -0.0938],\n",
      "        [-0.0461,  0.3081, -0.1893,  0.2693, -0.1092, -0.2674, -0.2047,  0.0671,\n",
      "          0.1970],\n",
      "        [-0.1944,  0.3172,  0.2286,  0.0528,  0.2757,  0.1682,  0.0214,  0.1242,\n",
      "          0.0225],\n",
      "        [-0.0024, -0.0249, -0.1413, -0.0835,  0.1082, -0.1648, -0.0959, -0.2034,\n",
      "          0.2261],\n",
      "        [-0.1835, -0.0682, -0.2183,  0.2939, -0.2585, -0.0180,  0.1303,  0.0915,\n",
      "          0.1739],\n",
      "        [-0.3238,  0.3221, -0.1728, -0.0452, -0.0731,  0.2222, -0.0280, -0.1694,\n",
      "          0.2513]], requires_grad=True)\n",
      "it: 8, loss: 22.0\n",
      "Parameter containing:\n",
      "tensor([[-0.0052,  0.3258,  0.3182, -0.1395,  0.0302,  0.1585,  0.2707, -0.0672,\n",
      "         -0.1143],\n",
      "        [-0.1484,  0.2899,  0.0320,  0.1650,  0.0174, -0.1379,  0.1011, -0.2345,\n",
      "         -0.3314],\n",
      "        [-0.0800,  0.1107, -0.0695,  0.2663,  0.3250, -0.3320,  0.2790,  0.1705,\n",
      "          0.1215],\n",
      "        [-0.0576,  0.2013, -0.0821,  0.2761, -0.2019,  0.1926, -0.0301, -0.0646,\n",
      "         -0.0938],\n",
      "        [-0.0461,  0.3081, -0.1893,  0.2693, -0.1092, -0.2674, -0.2047,  0.0671,\n",
      "          0.1970],\n",
      "        [-0.1944,  0.3172,  0.2286,  0.0528,  0.2757,  0.1682,  0.0214,  0.1242,\n",
      "          0.0225],\n",
      "        [-0.0024, -0.0249, -0.1413, -0.0835,  0.1082, -0.1648, -0.0959, -0.2034,\n",
      "          0.2261],\n",
      "        [-0.1835, -0.0682, -0.2183,  0.2939, -0.2585, -0.0180,  0.1303,  0.0915,\n",
      "          0.1739],\n",
      "        [-0.3238,  0.3221, -0.1728, -0.0452, -0.0731,  0.2222, -0.0280, -0.1694,\n",
      "          0.2513]], requires_grad=True)\n",
      "it: 9, loss: 22.0\n"
     ]
    }
   ],
   "source": [
    "# def collateExamples(example_list):\n",
    "#     ips = []\n",
    "#     ops = []\n",
    "#     for example in example_list:\n",
    "#         ips.append(example['input'])\n",
    "#         ops.append(example['output'])\n",
    "#     temp = np.array(ips)\n",
    "#     batched_inp = np.reshape(temp, (temp.shape[0],-1))\n",
    "#     temp = np.array(ops)\n",
    "#     batched_op = np.reshape(temp, (temp.shape[0],-1))\n",
    "#     return batched_inp, batched_op\n",
    "\n",
    "# class ARC(nn.Module):\n",
    "#     def __init__(self, numCellsInput):\n",
    "#         super(ARC, self).__init__()\n",
    "     \n",
    "#         flattened_dim = numCellsInput\n",
    "#         self.LL = nn.Linear(flattened_dim, flattened_dim, bias=False)\n",
    "\n",
    "#     def allExamplesOfSameDimension (self):\n",
    "#         for example in self.train_list:\n",
    "#             ip = example['input']\n",
    "#             op = example['output']\n",
    "#             if (np.array(ip).shape != np.array(train_list[0]['input']).shape or\n",
    "#                 np.array(op).shape != np.array(train_list[0]['output']).shape):\n",
    "#                 return False\n",
    "\n",
    "#         return True\n",
    "    \n",
    "#     def forward(self, inputs, VAL1, VAL2):\n",
    "#         probs = torch.sigmoid(self.LL(inputs))\n",
    "# #         ft = torch.zeros(probs.size())\n",
    "# #         ft[probs >= 0.5] = 1.0\n",
    "# #         ft[probs < 0.5] = 0.0\n",
    "# #         ft_ = torch.zeros(probs.size())\n",
    "# #         ft_[probs >= 0.5] = 0.0\n",
    "# #         ft_[probs < 0.5] = 1.0\n",
    "# #         inputs_ = inputs.clone()\n",
    "# #         inputs_[inputs == VAL1] = VAL2 * 1.0\n",
    "# #         inputs_[inputs == VAL2] = VAL1 * 1.0\n",
    "# #         op = ft * inputs + ft_ * inputs_\n",
    "#         op = inputs + probs * inputs\n",
    "#         return op\n",
    "    \n",
    "#     def loss(this, y, y_pred):\n",
    "#         p = (y != y_pred).sum().type(torch.float)\n",
    "#         p.requires_grad = True\n",
    "#         return p\n",
    "    \n",
    "#     def handleColorAspect(filename, removeColorAsp):\n",
    "#         train_list, test_list = read_single_training_example(filename)\n",
    "#         bTrain_inp, bTrain_op = collateExamples(train_list)\n",
    "#         bTest_inp, bTest_op = collateExamples(test_list)\n",
    "\n",
    "#         if (removeColorAsp):\n",
    "#             bTrain_inp[bTrain_inp != 0] = 9\n",
    "#             bTrain_op[bTrain_op != 0] = 9\n",
    "#             bTest_inp[bTest_inp != 0] = 9\n",
    "#             bTest_op[bTest_op != 0] = 9 \n",
    "            \n",
    "#         A = np.unique(bTrain_inp)\n",
    "#         B = np.unique(bTest_inp)\n",
    "#         uniq_Values = np.unique(np.array([A, B]))\n",
    "#         assert len(uniq_Values) == 2\n",
    "#         VAL1 = uniq_Values[0]\n",
    "#         VAL2 = uniq_Values[1]\n",
    "#         return bTrain_inp, bTrain_op, bTest_inp, bTest_op, VAL1, VAL2\n",
    "    \n",
    "# def train(filename, removeColorAsp):\n",
    "\n",
    "#     bTrain_inp, bTrain_op, bTest_inp, bTest_op, VAL1, VAL2 = ARC.handleColorAspect(filename, removeColorAsp)\n",
    "#     model = ARC(bTrain_inp.shape[1])\n",
    "#     model.train()\n",
    "#     X = Variable(torch.Tensor(bTrain_inp))\n",
    "#     X.requires_grad = False\n",
    "#     y = Variable(torch.Tensor(bTrain_op))\n",
    "#     optimizer = torch.optim.SGD(model.parameters(), lr=1e-4)\n",
    "#     criterian = torch.nn.MSELoss()\n",
    "#     for it in np.arange(10):\n",
    "#         print(model.LL.weight)\n",
    "#         y_pred = model(X, VAL1, VAL2)\n",
    "#         loss = model.loss(y, y_pred)\n",
    "#         #loss = criterian(y, y_pred)\n",
    "#         #loss.requires_grad = True\n",
    "        \n",
    "#         print(f'it: {it}, loss: {loss}')\n",
    "#         optimizer.zero_grad()\n",
    "#         loss.backward()\n",
    "#         optimizer.step()     \n",
    "#         #print(model.LL.weight)\n",
    "#     return\n",
    "\n",
    "# train(random_files_consistent_size[-9], True)"
   ]
  },
  {
   "cell_type": "code",
   "execution_count": 24,
   "metadata": {},
   "outputs": [
    {
     "name": "stdout",
     "output_type": "stream",
     "text": [
      "[[0. 0. 0.]\n",
      " [0. 0. 0.]\n",
      " [0. 0. 0.]]\n"
     ]
    },
    {
     "data": {
      "text/plain": [
       "True"
      ]
     },
     "execution_count": 24,
     "metadata": {},
     "output_type": "execute_result"
    }
   ],
   "source": [
    "x = np.zeros(9).reshape(3,3)\n",
    "print(x)\n",
    "np.logical_or(x == 0, x == 8).all()"
   ]
  },
  {
   "cell_type": "code",
   "execution_count": 102,
   "metadata": {},
   "outputs": [
    {
     "data": {
      "text/plain": [
       "Parameter containing:\n",
       "tensor([[ 0.0389, -0.0320, -0.0321,  ..., -0.0572,  0.0554, -0.0883],\n",
       "        [ 0.0858, -0.0224, -0.0712,  ..., -0.0141,  0.0948,  0.0283],\n",
       "        [ 0.0529, -0.0131, -0.0321,  ...,  0.0546, -0.0557,  0.0445],\n",
       "        ...,\n",
       "        [-0.0523, -0.0430,  0.0216,  ..., -0.0615, -0.0058, -0.0284],\n",
       "        [-0.0069,  0.0212, -0.0321,  ...,  0.0630, -0.0496,  0.0878],\n",
       "        [-0.0652, -0.0733,  0.0134,  ..., -0.0646,  0.0572, -0.0052]],\n",
       "       requires_grad=True)"
      ]
     },
     "execution_count": 102,
     "metadata": {},
     "output_type": "execute_result"
    }
   ],
   "source": [
    "model.LL.weight"
   ]
  },
  {
   "cell_type": "code",
   "execution_count": 80,
   "metadata": {},
   "outputs": [
    {
     "name": "stdout",
     "output_type": "stream",
     "text": [
      "tensor([[1., 2., 3.],\n",
      "        [4., 5., 6.]])\n",
      "tensor([[2., 2., 3.],\n",
      "        [4., 5., 7.]])\n",
      "tensor(2)\n"
     ]
    }
   ],
   "source": [
    "t1 = torch.Tensor([[1,2,3],[4,5,6]])\n",
    "t2 = torch.Tensor([[2,2,3],[4,5,7]])\n",
    "print(t1)\n",
    "print(t2)\n",
    "print((t1 != t2).sum())"
   ]
  },
  {
   "cell_type": "code",
   "execution_count": 96,
   "metadata": {},
   "outputs": [
    {
     "data": {
      "text/plain": [
       "'../ARC_Dataset/mini_training/OP_EQUAL_IP/Non Colored Dataset/25ff71a9.json'"
      ]
     },
     "execution_count": 96,
     "metadata": {},
     "output_type": "execute_result"
    }
   ],
   "source": [
    "random_files_consistent_size[-9]"
   ]
  },
  {
   "cell_type": "code",
   "execution_count": null,
   "metadata": {},
   "outputs": [],
   "source": []
  }
 ],
 "metadata": {
  "kernelspec": {
   "display_name": "Python 3",
   "language": "python",
   "name": "python3"
  }
 },
 "nbformat": 4,
 "nbformat_minor": 2
}
