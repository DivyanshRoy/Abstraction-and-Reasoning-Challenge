{
  "nbformat": 4,
  "nbformat_minor": 0,
  "metadata": {
    "colab": {
      "name": "Untitled43.ipynb",
      "provenance": []
    },
    "kernelspec": {
      "name": "python3",
      "display_name": "Python 3"
    },
    "accelerator": "GPU"
  },
  "cells": [
    {
      "cell_type": "code",
      "metadata": {
        "id": "krxhTBmErm9a",
        "colab_type": "code",
        "colab": {}
      },
      "source": [
        "import json\n",
        "\n",
        "def read_json(filename): \n",
        "  f = open (filename, \"r\") \n",
        "    \n",
        "  # Reading from file \n",
        "  data = json.loads(f.read()) \n",
        "  return data\n",
        "\n",
        "data = read_json(\"data.json\")  "
      ],
      "execution_count": 0,
      "outputs": []
    },
    {
      "cell_type": "code",
      "metadata": {
        "id": "CgmJDKZWr9uG",
        "colab_type": "code",
        "colab": {
          "base_uri": "https://localhost:8080/",
          "height": 55
        },
        "outputId": "b44e6eb3-ecfc-4fc0-d21f-3c76a86b347a"
      },
      "source": [
        "print(data)"
      ],
      "execution_count": 2,
      "outputs": [
        {
          "output_type": "stream",
          "text": [
            "{'train': [{'input': [[0, 0, 0, 0, 0, 9, 0, 0, 0, 0, 0, 9, 0, 0, 0, 0, 0], [0, 0, 9, 0, 0, 9, 0, 0, 0, 0, 0, 9, 0, 0, 0, 0, 0], [0, 9, 9, 9, 0, 9, 0, 0, 0, 0, 0, 9, 0, 9, 9, 9, 0], [0, 0, 9, 0, 0, 9, 0, 0, 0, 0, 0, 9, 0, 0, 0, 0, 0], [0, 0, 0, 0, 0, 9, 0, 0, 0, 0, 0, 9, 0, 0, 0, 0, 0], [9, 9, 9, 9, 9, 9, 9, 9, 9, 9, 9, 9, 9, 9, 9, 9, 9], [0, 0, 0, 0, 0, 9, 0, 0, 0, 0, 0, 9, 0, 0, 0, 0, 0], [0, 0, 0, 0, 0, 9, 0, 0, 9, 0, 0, 9, 0, 0, 0, 0, 0], [0, 0, 0, 0, 0, 9, 0, 9, 0, 9, 0, 9, 0, 0, 0, 0, 0], [0, 0, 0, 0, 0, 9, 0, 0, 9, 0, 0, 9, 0, 0, 0, 0, 0], [0, 0, 0, 0, 0, 9, 0, 0, 0, 0, 0, 9, 0, 0, 0, 0, 0], [9, 9, 9, 9, 9, 9, 9, 9, 9, 9, 9, 9, 9, 9, 9, 9, 9], [0, 0, 0, 0, 0, 9, 0, 0, 0, 0, 0, 9, 0, 0, 0, 0, 0], [0, 0, 9, 0, 0, 9, 0, 0, 0, 0, 0, 9, 0, 0, 0, 0, 0], [0, 9, 9, 9, 0, 9, 0, 0, 0, 0, 0, 9, 0, 0, 0, 0, 0], [0, 0, 9, 0, 0, 9, 0, 0, 0, 0, 0, 9, 0, 0, 0, 0, 0], [0, 0, 0, 0, 0, 9, 0, 0, 0, 0, 0, 9, 0, 0, 0, 0, 0]], 'output': [[0, 0, 0, 0, 0, 9, 0, 0, 0, 0, 0, 9, 0, 0, 0, 0, 0], [0, 0, 9, 0, 0, 9, 0, 0, 9, 0, 0, 9, 0, 0, 9, 0, 0], [0, 9, 9, 9, 0, 9, 0, 9, 9, 9, 0, 9, 0, 9, 9, 9, 0], [0, 0, 9, 0, 0, 9, 0, 0, 9, 0, 0, 9, 0, 0, 9, 0, 0], [0, 0, 0, 0, 0, 9, 0, 0, 0, 0, 0, 9, 0, 0, 0, 0, 0], [9, 9, 9, 9, 9, 9, 9, 9, 9, 9, 9, 9, 9, 9, 9, 9, 9], [0, 0, 0, 0, 0, 9, 0, 0, 0, 0, 0, 9, 0, 0, 0, 0, 0], [0, 0, 9, 0, 0, 9, 0, 0, 9, 0, 0, 9, 0, 0, 9, 0, 0], [0, 9, 9, 9, 0, 9, 0, 9, 9, 9, 0, 9, 0, 9, 9, 9, 0], [0, 0, 9, 0, 0, 9, 0, 0, 9, 0, 0, 9, 0, 0, 9, 0, 0], [0, 0, 0, 0, 0, 9, 0, 0, 0, 0, 0, 9, 0, 0, 0, 0, 0], [9, 9, 9, 9, 9, 9, 9, 9, 9, 9, 9, 9, 9, 9, 9, 9, 9], [0, 0, 0, 0, 0, 9, 0, 0, 0, 0, 0, 9, 0, 0, 0, 0, 0], [0, 0, 9, 0, 0, 9, 0, 0, 9, 0, 0, 9, 0, 0, 9, 0, 0], [0, 9, 9, 9, 0, 9, 0, 9, 9, 9, 0, 9, 0, 9, 9, 9, 0], [0, 0, 9, 0, 0, 9, 0, 0, 9, 0, 0, 9, 0, 0, 9, 0, 0], [0, 0, 0, 0, 0, 9, 0, 0, 0, 0, 0, 9, 0, 0, 0, 0, 0]]}, {'input': [[0, 0, 0, 0, 0, 9, 0, 0, 0, 0, 0, 9, 0, 0, 0, 0, 0], [0, 9, 9, 9, 0, 9, 0, 0, 0, 0, 0, 9, 0, 0, 9, 9, 0], [0, 9, 9, 9, 0, 9, 0, 9, 9, 0, 0, 9, 0, 0, 0, 0, 0], [0, 9, 9, 9, 0, 9, 0, 0, 0, 0, 0, 9, 0, 0, 0, 0, 0], [0, 0, 0, 0, 0, 9, 0, 0, 0, 0, 0, 9, 0, 0, 0, 0, 0], [9, 9, 9, 9, 9, 9, 9, 9, 9, 9, 9, 9, 9, 9, 9, 9, 9], [0, 0, 0, 0, 0, 9, 0, 0, 0, 0, 0, 9, 0, 0, 0, 0, 0], [0, 0, 0, 0, 0, 9, 0, 0, 0, 0, 0, 9, 0, 0, 0, 0, 0], [0, 0, 0, 0, 0, 9, 0, 0, 0, 0, 0, 9, 0, 0, 9, 0, 0], [0, 0, 0, 0, 0, 9, 0, 0, 0, 0, 0, 9, 0, 0, 0, 0, 0], [0, 0, 0, 0, 0, 9, 0, 0, 0, 0, 0, 9, 0, 0, 0, 0, 0], [9, 9, 9, 9, 9, 9, 9, 9, 9, 9, 9, 9, 9, 9, 9, 9, 9], [0, 0, 0, 0, 0, 9, 0, 0, 0, 0, 0, 9, 0, 0, 0, 0, 0], [0, 0, 0, 0, 0, 9, 0, 0, 9, 0, 0, 9, 0, 0, 0, 0, 0], [0, 0, 0, 0, 0, 9, 0, 9, 0, 9, 0, 9, 0, 0, 0, 0, 0], [0, 0, 0, 0, 0, 9, 0, 0, 9, 0, 0, 9, 0, 0, 0, 0, 0], [0, 0, 0, 0, 0, 9, 0, 0, 0, 0, 0, 9, 0, 0, 0, 0, 0]], 'output': [[0, 0, 0, 0, 0, 9, 0, 0, 0, 0, 0, 9, 0, 0, 0, 0, 0], [0, 9, 9, 9, 0, 9, 0, 9, 9, 9, 0, 9, 0, 9, 9, 9, 0], [0, 9, 9, 9, 0, 9, 0, 9, 9, 9, 0, 9, 0, 9, 9, 9, 0], [0, 9, 9, 9, 0, 9, 0, 9, 9, 9, 0, 9, 0, 9, 9, 9, 0], [0, 0, 0, 0, 0, 9, 0, 0, 0, 0, 0, 9, 0, 0, 0, 0, 0], [9, 9, 9, 9, 9, 9, 9, 9, 9, 9, 9, 9, 9, 9, 9, 9, 9], [0, 0, 0, 0, 0, 9, 0, 0, 0, 0, 0, 9, 0, 0, 0, 0, 0], [0, 9, 9, 9, 0, 9, 0, 9, 9, 9, 0, 9, 0, 9, 9, 9, 0], [0, 9, 9, 9, 0, 9, 0, 9, 9, 9, 0, 9, 0, 9, 9, 9, 0], [0, 9, 9, 9, 0, 9, 0, 9, 9, 9, 0, 9, 0, 9, 9, 9, 0], [0, 0, 0, 0, 0, 9, 0, 0, 0, 0, 0, 9, 0, 0, 0, 0, 0], [9, 9, 9, 9, 9, 9, 9, 9, 9, 9, 9, 9, 9, 9, 9, 9, 9], [0, 0, 0, 0, 0, 9, 0, 0, 0, 0, 0, 9, 0, 0, 0, 0, 0], [0, 9, 9, 9, 0, 9, 0, 9, 9, 9, 0, 9, 0, 9, 9, 9, 0], [0, 9, 9, 9, 0, 9, 0, 9, 9, 9, 0, 9, 0, 9, 9, 9, 0], [0, 9, 9, 9, 0, 9, 0, 9, 9, 9, 0, 9, 0, 9, 9, 9, 0], [0, 0, 0, 0, 0, 9, 0, 0, 0, 0, 0, 9, 0, 0, 0, 0, 0]]}, {'input': [[0, 0, 0, 0, 0, 9, 0, 0, 0, 0, 0, 9, 0, 0, 0, 0, 0], [0, 0, 9, 0, 0, 9, 0, 0, 0, 0, 0, 9, 0, 0, 0, 0, 0], [0, 9, 0, 9, 0, 9, 0, 9, 0, 0, 0, 9, 0, 0, 0, 9, 0], [0, 0, 9, 0, 0, 9, 0, 0, 0, 0, 0, 9, 0, 0, 0, 0, 0], [0, 0, 0, 0, 0, 9, 0, 0, 0, 0, 0, 9, 0, 0, 0, 0, 0], [9, 9, 9, 9, 9, 9, 9, 9, 9, 9, 9, 9, 9, 9, 9, 9, 9], [0, 0, 0, 0, 0, 9, 0, 0, 0, 0, 0, 9, 0, 0, 0, 0, 0], [0, 0, 9, 0, 0, 9, 0, 0, 0, 0, 0, 9, 0, 0, 0, 0, 0], [0, 9, 0, 0, 0, 9, 0, 0, 0, 0, 0, 9, 0, 0, 0, 0, 0], [0, 0, 0, 0, 0, 9, 0, 0, 0, 0, 0, 9, 0, 0, 0, 0, 0], [0, 0, 0, 0, 0, 9, 0, 0, 0, 0, 0, 9, 0, 0, 0, 0, 0], [9, 9, 9, 9, 9, 9, 9, 9, 9, 9, 9, 9, 9, 9, 9, 9, 9], [0, 0, 0, 0, 0, 9, 0, 0, 0, 0, 0, 9, 0, 0, 0, 0, 0], [0, 0, 0, 0, 0, 9, 0, 0, 0, 0, 0, 9, 0, 0, 0, 0, 0], [0, 0, 0, 0, 0, 9, 0, 0, 0, 0, 0, 9, 0, 0, 0, 9, 0], [0, 0, 0, 0, 0, 9, 0, 0, 0, 0, 0, 9, 0, 0, 9, 0, 0], [0, 0, 0, 0, 0, 9, 0, 0, 0, 0, 0, 9, 0, 0, 0, 0, 0]], 'output': [[0, 0, 0, 0, 0, 9, 0, 0, 0, 0, 0, 9, 0, 0, 0, 0, 0], [0, 0, 9, 0, 0, 9, 0, 0, 9, 0, 0, 9, 0, 0, 9, 0, 0], [0, 9, 0, 9, 0, 9, 0, 9, 0, 9, 0, 9, 0, 9, 0, 9, 0], [0, 0, 9, 0, 0, 9, 0, 0, 9, 0, 0, 9, 0, 0, 9, 0, 0], [0, 0, 0, 0, 0, 9, 0, 0, 0, 0, 0, 9, 0, 0, 0, 0, 0], [9, 9, 9, 9, 9, 9, 9, 9, 9, 9, 9, 9, 9, 9, 9, 9, 9], [0, 0, 0, 0, 0, 9, 0, 0, 0, 0, 0, 9, 0, 0, 0, 0, 0], [0, 0, 9, 0, 0, 9, 0, 0, 9, 0, 0, 9, 0, 0, 9, 0, 0], [0, 9, 0, 9, 0, 9, 0, 9, 0, 9, 0, 9, 0, 9, 0, 9, 0], [0, 0, 9, 0, 0, 9, 0, 0, 9, 0, 0, 9, 0, 0, 9, 0, 0], [0, 0, 0, 0, 0, 9, 0, 0, 0, 0, 0, 9, 0, 0, 0, 0, 0], [9, 9, 9, 9, 9, 9, 9, 9, 9, 9, 9, 9, 9, 9, 9, 9, 9], [0, 0, 0, 0, 0, 9, 0, 0, 0, 0, 0, 9, 0, 0, 0, 0, 0], [0, 0, 9, 0, 0, 9, 0, 0, 9, 0, 0, 9, 0, 0, 9, 0, 0], [0, 9, 0, 9, 0, 9, 0, 9, 0, 9, 0, 9, 0, 9, 0, 9, 0], [0, 0, 9, 0, 0, 9, 0, 0, 9, 0, 0, 9, 0, 0, 9, 0, 0], [0, 0, 0, 0, 0, 9, 0, 0, 0, 0, 0, 9, 0, 0, 0, 0, 0]]}], 'test': [{'input': [[0, 0, 0, 0, 0, 9, 0, 0, 0, 0, 0, 9, 0, 0, 0, 0, 0], [0, 9, 9, 9, 0, 9, 0, 9, 9, 0, 0, 9, 0, 0, 0, 0, 0], [0, 9, 0, 9, 0, 9, 0, 0, 0, 0, 0, 9, 0, 0, 0, 0, 0], [0, 9, 9, 9, 0, 9, 0, 0, 0, 0, 0, 9, 0, 0, 0, 0, 0], [0, 0, 0, 0, 0, 9, 0, 0, 0, 0, 0, 9, 0, 0, 0, 0, 0], [9, 9, 9, 9, 9, 9, 9, 9, 9, 9, 9, 9, 9, 9, 9, 9, 9], [0, 0, 0, 0, 0, 9, 0, 0, 0, 0, 0, 9, 0, 0, 0, 0, 0], [0, 0, 9, 0, 0, 9, 0, 0, 0, 0, 0, 9, 0, 0, 0, 0, 0], [0, 9, 0, 9, 0, 9, 0, 0, 0, 0, 0, 9, 0, 0, 0, 0, 0], [0, 0, 9, 0, 0, 9, 0, 9, 9, 0, 0, 9, 0, 0, 0, 0, 0], [0, 0, 0, 0, 0, 9, 0, 0, 0, 0, 0, 9, 0, 0, 0, 0, 0], [9, 9, 9, 9, 9, 9, 9, 9, 9, 9, 9, 9, 9, 9, 9, 9, 9], [0, 0, 0, 0, 0, 9, 0, 0, 0, 0, 0, 9, 0, 0, 0, 0, 0], [0, 0, 0, 0, 0, 9, 0, 0, 0, 0, 0, 9, 0, 0, 0, 0, 0], [0, 0, 0, 0, 0, 9, 0, 9, 0, 9, 0, 9, 0, 0, 0, 0, 0], [0, 0, 0, 0, 0, 9, 0, 0, 0, 0, 0, 9, 0, 0, 0, 0, 0], [0, 0, 0, 0, 0, 9, 0, 0, 0, 0, 0, 9, 0, 0, 0, 0, 0]], 'output': [[0, 0, 0, 0, 0, 9, 0, 0, 0, 0, 0, 9, 0, 0, 0, 0, 0], [0, 9, 9, 9, 0, 9, 0, 9, 9, 9, 0, 9, 0, 9, 9, 9, 0], [0, 9, 0, 9, 0, 9, 0, 9, 0, 9, 0, 9, 0, 9, 0, 9, 0], [0, 9, 9, 9, 0, 9, 0, 9, 9, 9, 0, 9, 0, 9, 9, 9, 0], [0, 0, 0, 0, 0, 9, 0, 0, 0, 0, 0, 9, 0, 0, 0, 0, 0], [9, 9, 9, 9, 9, 9, 9, 9, 9, 9, 9, 9, 9, 9, 9, 9, 9], [0, 0, 0, 0, 0, 9, 0, 0, 0, 0, 0, 9, 0, 0, 0, 0, 0], [0, 9, 9, 9, 0, 9, 0, 9, 9, 9, 0, 9, 0, 9, 9, 9, 0], [0, 9, 0, 9, 0, 9, 0, 9, 0, 9, 0, 9, 0, 9, 0, 9, 0], [0, 9, 9, 9, 0, 9, 0, 9, 9, 9, 0, 9, 0, 9, 9, 9, 0], [0, 0, 0, 0, 0, 9, 0, 0, 0, 0, 0, 9, 0, 0, 0, 0, 0], [9, 9, 9, 9, 9, 9, 9, 9, 9, 9, 9, 9, 9, 9, 9, 9, 9], [0, 0, 0, 0, 0, 9, 0, 0, 0, 0, 0, 9, 0, 0, 0, 0, 0], [0, 9, 9, 9, 0, 9, 0, 9, 9, 9, 0, 9, 0, 9, 9, 9, 0], [0, 9, 0, 9, 0, 9, 0, 9, 0, 9, 0, 9, 0, 9, 0, 9, 0], [0, 9, 9, 9, 0, 9, 0, 9, 9, 9, 0, 9, 0, 9, 9, 9, 0], [0, 0, 0, 0, 0, 9, 0, 0, 0, 0, 0, 9, 0, 0, 0, 0, 0]]}]}\n"
          ],
          "name": "stdout"
        }
      ]
    },
    {
      "cell_type": "code",
      "metadata": {
        "id": "bjTpt-JYsAw6",
        "colab_type": "code",
        "colab": {
          "base_uri": "https://localhost:8080/",
          "height": 52
        },
        "outputId": "e5db6a55-d994-4664-ed98-3a418b774ffa"
      },
      "source": [
        "print(len(data['train']))\n",
        "print(len(data['test']))"
      ],
      "execution_count": 3,
      "outputs": [
        {
          "output_type": "stream",
          "text": [
            "3\n",
            "1\n"
          ],
          "name": "stdout"
        }
      ]
    },
    {
      "cell_type": "code",
      "metadata": {
        "id": "koy2hVd3sDvY",
        "colab_type": "code",
        "colab": {}
      },
      "source": [
        "\n",
        "import numpy as np\n",
        "\n",
        "train_input = np.zeros(shape=[3,17,17,1])\n",
        "train_output = np.zeros(shape=[3,17,17,1])\n",
        "\n",
        "test_input = np.zeros(shape=[1,17,17,1])\n",
        "test_output = np.zeros(shape=[1,17,17,1])\n",
        "\n",
        "for i in range(3):\n",
        "  v = data['train'][i]\n",
        "  inp = v['input']\n",
        "  out = v['output']\n",
        "  train_input[i,:,:,0] = inp\n",
        "  train_output[i,:,:,0] = out\n",
        "\n",
        "for i in range(1):\n",
        "  v = data['test'][i]\n",
        "  inp = v['input']\n",
        "  out = v['output']\n",
        "  test_input[i,:,:,0] = inp\n",
        "  test_output[i,:,:,0] = out"
      ],
      "execution_count": 0,
      "outputs": []
    },
    {
      "cell_type": "code",
      "metadata": {
        "id": "WF0eTcT2sswF",
        "colab_type": "code",
        "colab": {
          "base_uri": "https://localhost:8080/",
          "height": 35
        },
        "outputId": "4d4d9695-3c3d-4bca-8d2e-b886ff02f5f1"
      },
      "source": [
        "print(test_input.shape)"
      ],
      "execution_count": 5,
      "outputs": [
        {
          "output_type": "stream",
          "text": [
            "(1, 17, 17, 1)\n"
          ],
          "name": "stdout"
        }
      ]
    },
    {
      "cell_type": "code",
      "metadata": {
        "id": "bs2H0xqLsyyq",
        "colab_type": "code",
        "colab": {
          "base_uri": "https://localhost:8080/",
          "height": 35
        },
        "outputId": "e54b8c4e-0fe3-4346-81d5-cac1ff3b08d0"
      },
      "source": [
        "print(train_input.shape)"
      ],
      "execution_count": 6,
      "outputs": [
        {
          "output_type": "stream",
          "text": [
            "(3, 17, 17, 1)\n"
          ],
          "name": "stdout"
        }
      ]
    },
    {
      "cell_type": "code",
      "metadata": {
        "id": "ZXcjBMZk7MHU",
        "colab_type": "code",
        "colab": {}
      },
      "source": [
        "train_input/=9.0\n",
        "train_output/=9.0\n",
        "test_input/=9.0\n",
        "test_output/=9.0\n",
        "\n",
        "# train_input-=0.5\n",
        "# train_output-=0.5\n",
        "# test_input-=0.5\n",
        "# test_output-=0.5\n",
        "\n",
        "# train_input*=2.0\n",
        "# train_output*=2.0\n",
        "# test_input*=2.0\n",
        "# test_output*=2.0\n"
      ],
      "execution_count": 0,
      "outputs": []
    },
    {
      "cell_type": "code",
      "metadata": {
        "id": "lfij8wzlte1q",
        "colab_type": "code",
        "colab": {}
      },
      "source": [
        "import torch\n",
        "import torch.nn as nn\n",
        "import torchvision.models as models\n",
        "import torchvision.transforms as transforms\n",
        "from torch.autograd import Variable\n",
        "from PIL import Image\n",
        "from torch.utils import data\n",
        "import numpy as np\n",
        "import torch\n",
        "import torch.optim as optim\n",
        "import torch.nn.functional as F"
      ],
      "execution_count": 0,
      "outputs": []
    },
    {
      "cell_type": "code",
      "metadata": {
        "id": "E5OdzTy_s7-T",
        "colab_type": "code",
        "colab": {}
      },
      "source": [
        "tensor_train_input = torch.Tensor(train_input)\n",
        "tensor_train_output = torch.Tensor(train_output)\n",
        "\n",
        "tensor_test_input = torch.Tensor(test_input)\n",
        "tensor_test_output = torch.Tensor(test_output)\n",
        "\n",
        "tensor_train_input = tensor_train_input.permute(0,3,1,2)\n",
        "tensor_train_output = tensor_train_output.permute(0,3,1,2)\n",
        "tensor_test_input = tensor_test_input.permute(0,3,1,2)\n",
        "tensor_test_output = tensor_test_output.permute(0,3,1,2)"
      ],
      "execution_count": 0,
      "outputs": []
    },
    {
      "cell_type": "code",
      "metadata": {
        "id": "DAlgbGqVtavA",
        "colab_type": "code",
        "colab": {}
      },
      "source": [
        "from torch.utils import data\n",
        "trainset = data.TensorDataset(tensor_train_input,tensor_train_output)\n",
        "valset = data.TensorDataset(tensor_test_input,tensor_test_output)\n",
        "batch_size = 3\n",
        "num_workers = 1\n",
        "trainloader = torch.utils.data.DataLoader(trainset, batch_size=batch_size, shuffle=True, num_workers=num_workers)\n",
        "valloader = torch.utils.data.DataLoader(valset, batch_size=batch_size, shuffle=True, num_workers=num_workers)\n"
      ],
      "execution_count": 0,
      "outputs": []
    },
    {
      "cell_type": "code",
      "metadata": {
        "id": "wfRBs0q1lpxG",
        "colab_type": "code",
        "colab": {}
      },
      "source": [
        "import math\n",
        "\n",
        "import torch\n",
        "from torch import nn\n",
        "from torch.autograd import Variable\n",
        "from torch.nn import functional as F\n",
        "\n",
        "\n",
        "def hard_sigmoid(x):\n",
        "    return torch.min(torch.max(x, torch.zeros_like(x)), torch.ones_like(x))\n",
        "\n",
        "\n",
        "class _L0Norm(nn.Module):\n",
        "\n",
        "    def __init__(self, origin, loc_mean=0, loc_sdev=0.01, beta=2 / 3, gamma=-0.1,\n",
        "                 zeta=1.1, fix_temp=True):\n",
        "        \"\"\"\n",
        "        Base class of layers using L0 Norm\n",
        "        :param origin: original layer such as nn.Linear(..), nn.Conv2d(..)\n",
        "        :param loc_mean: mean of the normal distribution which generates initial location parameters\n",
        "        :param loc_sdev: standard deviation of the normal distribution which generates initial location parameters\n",
        "        :param beta: initial temperature parameter\n",
        "        :param gamma: lower bound of \"stretched\" s\n",
        "        :param zeta: upper bound of \"stretched\" s\n",
        "        :param fix_temp: True if temperature is fixed\n",
        "        \"\"\"\n",
        "        super(_L0Norm, self).__init__()\n",
        "        self._origin = origin\n",
        "        self._size = self._origin.weight.size()\n",
        "        self.loc = nn.Parameter(torch.zeros(self._size).normal_(loc_mean, loc_sdev))\n",
        "        self.temp = beta if fix_temp else nn.Parameter(torch.zeros(1).fill_(beta))\n",
        "        self.register_buffer(\"uniform\", torch.zeros(self._size))\n",
        "        self.gamma = gamma\n",
        "        self.zeta = zeta\n",
        "        self.gamma_zeta_ratio = math.log(-gamma / zeta)\n",
        "\n",
        "    def _get_mask(self):\n",
        "        if self.training:\n",
        "            self.uniform.uniform_()\n",
        "            u = Variable(self.uniform)\n",
        "            s = F.sigmoid((torch.log(u) - torch.log(1 - u) + self.loc) / self.temp)\n",
        "            s = s * (self.zeta - self.gamma) + self.gamma\n",
        "            penalty = F.sigmoid(self.loc - self.temp * self.gamma_zeta_ratio).sum()\n",
        "        else:\n",
        "            s = F.sigmoid(self.loc) * (self.zeta - self.gamma) + self.gamma\n",
        "            penalty = 0\n",
        "        return hard_sigmoid(s), penalty\n",
        "\n",
        "\n",
        "class L0Linear(_L0Norm):\n",
        "    def __init__(self, in_features, out_features, bias=True, **kwargs):\n",
        "        super(L0Linear, self).__init__(nn.Linear(in_features, out_features, bias=bias), **kwargs)\n",
        "\n",
        "    def forward(self, input):\n",
        "        mask, penalty = self._get_mask()\n",
        "        return F.linear(input, self._origin.weight * mask, self._origin.bias), penalty\n",
        "\n",
        "\n",
        "class L0Conv2d(_L0Norm):\n",
        "    def __init__(self, in_channels, out_channels, kernel_size, stride=1, padding=0, dilation=1, groups=1, bias=True,\n",
        "                 **kwargs):\n",
        "        super(L0Conv2d, self).__init__(nn.Conv2d(in_channels, out_channels, kernel_size, stride=stride, padding=padding,\n",
        "                                                 dilation=dilation, groups=groups, bias=bias), **kwargs)\n",
        "\n",
        "    def forward(self, input):\n",
        "        mask, penalty = self._get_mask()\n",
        "        conv = F.conv2d(input, self._origin.weight * mask, self._origin.bias, stride=self._origin.stride,\n",
        "                        padding=self._origin.padding, dilation=self._origin.dilation, groups=self._origin.groups)\n",
        "        return conv, penalty\n",
        "\n",
        "\n",
        "class L0Sequential(nn.Sequential):\n",
        "    def forward(self, input):\n",
        "        penalty = 0\n",
        "        for module in self._modules.values():\n",
        "            output = module(input)\n",
        "            if isinstance(output, tuple):\n",
        "                input = output[0]\n",
        "                penalty += output[1]\n",
        "            else:\n",
        "                input = output\n",
        "        return input, penalty"
      ],
      "execution_count": 0,
      "outputs": []
    },
    {
      "cell_type": "code",
      "metadata": {
        "id": "az6Y9d0Wt0FW",
        "colab_type": "code",
        "colab": {}
      },
      "source": [
        "class Replication(nn.Module):\n",
        "  def __init__(self):\n",
        "    super(Replication, self).__init__()\n",
        "    # x = torch.tensor([[1., -1.], [1., 1.]], requires_grad=True)\n",
        "    # self.w = torch.empty(289, 25)\n",
        "    # nn.init.sparse_(self.w, sparsity=1/289)\n",
        "    # self.b = torch.empty(25)\n",
        "    # nn.init.zeros_(self.b)\n",
        "    # self.conv0 = nn.Conv2d(1, 1, 5, stride=6, padding=0)\n",
        "    self.conv1 = nn.Conv2d(1, 2, 5, stride=6, padding=0)\n",
        "    self.conv2 = nn.ConvTranspose2d(2, 4, 5, stride=6, padding=0)\n",
        "    self.conv11 = nn.Conv2d(1, 1, 5, stride=1, padding=2)\n",
        "    self.conv12 = nn.Conv2d(1, 1, 5, stride=1, padding=2)\n",
        "    self.conv13 = nn.Conv2d(1, 1, 5, stride=1, padding=2)\n",
        "    self.conv14 = nn.Conv2d(1, 1, 5, stride=1, padding=2)\n",
        "    # self.conv3 = nn.Conv2d(1, 1, 5, stride=1, padding=2)\n",
        "    # self.conv4 = nn.Conv2d(1, 1, 5, stride=1, padding=2)\n",
        "    # self.conv5 = nn.ConvTranspose2d(1, 1, 5, stride=1, padding=2)\n",
        "    # self.conv6 = nn.ConvTranspose2d(1, 1, 5, stride=1, padding=2)\n",
        "    # self.conv7 = nn.ConvTranspose2d(1, 1, 5, stride=1, padding=2)\n",
        "    # self.conv8 = nn.ConvTranspose2d(1, 1, 5, stride=1, padding=2)\n",
        "    # self.conv1 = nn.ConvTranspose2d(1, 1, 5, stride=1, padding=2)\n",
        "    # self.fc1 = nn.Linear(17*17, 3*3)\n",
        "    # self.fc2 = nn.Linear(3*3, 17*17)\n",
        "\n",
        "    self.dropout = nn.Dropout(0.1)\n",
        "    # self.fc1 = nn.Linear(3*6, 3*3)\n",
        "    # self.fc1 = nn.Linear(17*17, 17*17)\n",
        "    # self.fc2 = nn.Linear(17*17, 17*17)\n",
        "    # self.fc3 = nn.Linear(17*17, 5*5)\n",
        "    # self.fc4 = nn.Linear(5*5, 17*17)\n",
        "    self.fc4 = L0Linear(5*5, 17*17)\n",
        "    # self.fc4 = L0Linear(17*17, 17*17)\n",
        "    # self.fc1.weight.data.uniform_(0.0, 1.0)\n",
        "    # self.fc1.weight.data = torch.round(self.fc1.weight.data)\n",
        "    # self.fc1.bias.data.fill_(0)\n",
        "    # self.fc1.weight.data.normal_(0.0,1/289)\n",
        "    # self.fc1.weight.data.type(torch.int)\n",
        "    # self.fc1.bias.data.type(torch.int)\n",
        "    # fc1.weight.data.fill_(0.01)\n",
        "    \n",
        "    # self.conv1 = nn.Conv2d(1, 1, 5, stride=1, padding=2)\n",
        "    # self.conv2 = nn.Conv2d(1, 1, 3, stride=1, padding=1)\n",
        "    # self.conv3 = nn.Conv2d(1, 1, 3, stride=1, padding=1)\n",
        "    # self.conv4 = nn.Conv2d(1, 1, 3, stride=1, padding=1)\n",
        "    \n",
        "\n",
        "  def forward(self, x):\n",
        "    # x = x.view(x.size(0), -1)\n",
        "    # x = F.sigmoid(torch.matmul(x, self.w) + self.b)\n",
        "    # x = F.sigmoid(self.fc4(x))\n",
        "    # x = self.dropout(F.sigmoid(self.fc1(x)))\n",
        "    # x = self.dropout(F.sigmoid(self.fc2(x)))\n",
        "    # x = F.sigmoid(self.fc3(x))\n",
        "    # x = F.sigmoid(self.fc4(x))\n",
        "    # x = x.view(x.size(0), 1, 17, 17)\n",
        "    # x0 = self.conv0(x)\n",
        "    # print(x.size())\n",
        "\n",
        "    # x1 = self.dropout(F.relu(self.conv11(x)))\n",
        "    # x1 = self.dropout(F.relu(self.conv12(x1)))\n",
        "    # x1 = self.dropout(F.relu(self.conv13(x1)))\n",
        "    # x1 = self.dropout(F.relu(self.conv14(x1)))\n",
        "\n",
        "    # x = x.view(x.size(0), -1)\n",
        "    # x2 = self.dropout(F.relu(self.fc1(x)))\n",
        "    # x2 = x2.view(x2.size(0), 1, 17, 17)\n",
        "    # x = x.view(x.size(0), 1, 17, 17)\n",
        "\n",
        "    # x = self.dropout(F.relu(self.conv1(x)))\n",
        "    # print(x.size())\n",
        "    # x = x.view(x.size(0), -1)\n",
        "    # x = F.relu(self.fc1(x))   \n",
        "    # x = x.view(x.size(0), 1, 3, 3) \n",
        "    # print(x.size())\n",
        "    # x = self.dropout(F.relu(self.conv2(x)))\n",
        "    # x = torch.sum(x, axis=1)\n",
        "    # x = x.view(x.size(0), 1, x.size(1), x.size(2))\n",
        "    # x = x+x1+x2\n",
        "    x = torch.tensor(x[:,:,:5,:5])\n",
        "    # print(x.size())\n",
        "    # print(x.shape)\n",
        "    # x = x.view(x.size(0), -1)\n",
        "    x = x.view(x.size(0), -1)\n",
        "    # x = F.relu(self.fc4(x))\n",
        "    x = self.fc4(x)[0]\n",
        "    x = F.relu(x)\n",
        "    # print(x)\n",
        "    # print(x[0].size())\n",
        "    x = x.view(x.size(0), 1, 17, 17)\n",
        "    # x = F.relu(self.conv11(x))\n",
        "    # x = F.relu(self.conv12(x))\n",
        "    # print(x.size())\n",
        "\n",
        "    # return 0\n",
        "    # print(x.size())\n",
        "    # print()\n",
        "    # x = self.dropout(F.relu(self.conv3(x)))\n",
        "    # x = self.dropout(F.relu(self.conv4(x)))\n",
        "    # x = self.dropout(F.relu(self.conv5(x)))\n",
        "    # x = F.relu(self.conv5(x))\n",
        "    # x = F.relu(self.conv6(x))\n",
        "    # x = F.relu(self.conv7(x))\n",
        "    # x = F.relu(self.conv8(x))\n",
        "    # # x2 = F.relu(self.conv2(x1))\n",
        "    # x3 = F.relu(self.conv3(x2))\n",
        "    # x4 = F.relu(sel/f.conv4(x3))\n",
        "    # x5 = F.relu(self.conv5(x4))\n",
        "    # x6 = F.relu(self.conv6(x5))\n",
        "    # x7 = F.relu(self.conv7(x6))\n",
        "    # x8 = F.relu(self.conv8(x7))\n",
        "    return x"
      ],
      "execution_count": 0,
      "outputs": []
    },
    {
      "cell_type": "code",
      "metadata": {
        "id": "07DY4LBBw05z",
        "colab_type": "code",
        "colab": {}
      },
      "source": [
        "model = Replication()"
      ],
      "execution_count": 0,
      "outputs": []
    },
    {
      "cell_type": "code",
      "metadata": {
        "id": "ZNatpuhewuwM",
        "colab_type": "code",
        "colab": {}
      },
      "source": [
        "# criterion = nn.CrossEntropyLoss()\n",
        "# criterion = nn.BCELoss()\n",
        "# criterion = nn.BCEWithLogitsLoss()\n",
        "criterion = nn.MSELoss()\n",
        "# optimizer = optim.SGD(model.parameters(), lr=0.01, momentum=0.9)\n",
        "optimizer = optim.Adam(model.parameters(), lr=1e-4)"
      ],
      "execution_count": 0,
      "outputs": []
    },
    {
      "cell_type": "code",
      "metadata": {
        "id": "An6qCjZdxTXT",
        "colab_type": "code",
        "colab": {}
      },
      "source": [
        "def get_accuracy(inputs, gt, predictions):\n",
        "  # print(predictions.size())\n",
        "  # print(gt.size())\n",
        "  # return 10, 10  \n",
        "  inputs = inputs.detach().numpy()\n",
        "  predictions = predictions.detach().numpy()\n",
        "  gt = gt.detach().numpy()\n",
        "  total = 0\n",
        "  correct = 0\n",
        "\n",
        "  for b in range(inputs.shape[0]):\n",
        "    inputs_i = np.reshape(inputs[b], newshape=[inputs.shape[2], inputs.shape[3]])\n",
        "    predictions_i = np.reshape(predictions[b], newshape=[predictions.shape[2], predictions.shape[3]])\n",
        "    gt_i = np.reshape(gt[b], newshape=[gt.shape[2], gt.shape[3]])\n",
        "    # plt.imshow(inputs_i)\n",
        "    # plt.show()\n",
        "    # plt.imshow(gt_i)\n",
        "    # plt.show()\n",
        "    # plt.imshow(predictions_i)\n",
        "    # plt.show()\n",
        "    for i in range(gt_i.shape[0]):\n",
        "      for j in range(gt_i.shape[1]):\n",
        "        # print(inputs_i[i,j],\" .. \",gt_i[i,j],\" \",predictions_i[i,j])\n",
        "        # if inputs_i[i,j] != gt_i[i,j]:\n",
        "        total += 1\n",
        "        if gt_i[i,j] == predictions_i[i,j]:\n",
        "          # print(gt_i[i,j],\" \",predictions_i[i,j])\n",
        "          correct += 1\n",
        "        # print(correct,\" \",total)\n",
        "      # break\n",
        "    # plt.imshow(gt_i)\n",
        "    # plt.show()\n",
        "    # plt.imshow(predictions_i)\n",
        "    # plt.show()\n",
        "  return correct, total\n",
        "  # predictions = torch.max(predictions, axis=1)[1]\n",
        "  # ab = torch.abs(predictions-labels)\n",
        "  # ab = ab.detach().numpy()\n",
        "  # mn = np.minimum(ab, 1)\n",
        "  # eq = 1-mn\n",
        "  # correct = np.sum(eq)\n",
        "  # total = eq.shape[0]\n",
        "  # return correct, total"
      ],
      "execution_count": 0,
      "outputs": []
    },
    {
      "cell_type": "code",
      "metadata": {
        "id": "w_mELA14z8AE",
        "colab_type": "code",
        "colab": {}
      },
      "source": [
        "print_every = 500\n",
        "epochs = 10000"
      ],
      "execution_count": 0,
      "outputs": []
    },
    {
      "cell_type": "code",
      "metadata": {
        "id": "PXtrJd0vDFzl",
        "colab_type": "code",
        "colab": {}
      },
      "source": [
        "highest_val = 0.0"
      ],
      "execution_count": 0,
      "outputs": []
    },
    {
      "cell_type": "code",
      "metadata": {
        "id": "rp4_oSosTseq",
        "colab_type": "code",
        "colab": {
          "base_uri": "https://localhost:8080/",
          "height": 1000
        },
        "outputId": "a452a7ef-cc08-4820-8c73-1defe66f670c"
      },
      "source": [
        "for epoch in range(epochs):  # loop over the dataset multiple times\n",
        "\n",
        "    running_loss = 0.0\n",
        "    correct = 0\n",
        "    total = 0\n",
        "    total_loss = 0.0\n",
        "    model.train()\n",
        "    num_batches = 1\n",
        "\n",
        "    for i, data in enumerate(trainloader, 0):\n",
        "        optimizer.zero_grad()\n",
        "\n",
        "        inputs, outputs = data\n",
        "        preds = model(inputs)\n",
        "        # print(preds)\n",
        "        # preds = torch.round(preds)\n",
        "        # print(preds)\n",
        "        # print(inputs)\n",
        "        # print(outputs)\n",
        "        # break\n",
        "        \n",
        "        batch_correct, batch_total = get_accuracy(inputs, outputs, torch.round(preds))\n",
        "        correct += batch_correct\n",
        "        total += batch_total\n",
        "        loss = criterion(outputs.view(outputs.size(0), -1), preds.view(preds.size(0), -1))\n",
        "        loss.backward()\n",
        "        optimizer.step()\n",
        "\n",
        "        running_loss += loss.item()\n",
        "        total_loss += running_loss\n",
        "        num_batches += 1\n",
        "        running_loss = 0.0\n",
        "    # break\n",
        "    val_correct = 0\n",
        "    val_total = 0\n",
        "    val_batches = 0\n",
        "    val_total_loss = 0.0\n",
        "    model.eval()\n",
        "    with torch.no_grad():\n",
        "      for i, data in enumerate(valloader, 0):\n",
        "        inputs, outputs = data\n",
        "        preds = model(inputs)\n",
        "        if epoch%print_every == 0:\n",
        "          preview(inputs, outputs, torch.round(preds))\n",
        "        # preds = torch.round(preds)\n",
        "        # if epoch%print_every == 0:\n",
        "          # preview(inputs, outputs, preds)\n",
        "        batch_correct, batch_total = get_accuracy(inputs, outputs, torch.round(preds))\n",
        "        # batch_correct, batch_total = get_accuracy(inputs, outputs, preds)\n",
        "        val_correct += batch_correct\n",
        "        val_total += batch_total\n",
        "        val_batches += 1\n",
        "        val_loss = criterion(outputs.view(outputs.size(0), -1), preds.view(preds.size(0), -1))\n",
        "        val_total_loss += val_loss.detach().numpy()\n",
        "        \n",
        "    if val_correct/val_total > highest_val:\n",
        "      highest_val = val_correct/val_total\n",
        "    if epoch % print_every == 0:\n",
        "      print(correct,\" \",total)\n",
        "      print(val_correct,\" \",val_total)\n",
        "      print(highest_val)\n",
        "      print(\"Epoch: \",epoch+1,\" Loss: \",total_loss/num_batches,\" Train-Accuracy: \", correct/total,\" Val Loss: \",val_total_loss/val_batches,\" Val-Accuracy: \",val_correct/val_total)\n",
        "      \n",
        "    \n",
        "\n",
        "print('Finished Training')"
      ],
      "execution_count": 91,
      "outputs": [
        {
          "output_type": "stream",
          "text": [
            "/usr/local/lib/python3.6/dist-packages/ipykernel_launcher.py:80: UserWarning: To copy construct from a tensor, it is recommended to use sourceTensor.clone().detach() or sourceTensor.clone().detach().requires_grad_(True), rather than torch.tensor(sourceTensor).\n",
            "/usr/local/lib/python3.6/dist-packages/torch/nn/functional.py:1351: UserWarning: nn.functional.sigmoid is deprecated. Use torch.sigmoid instead.\n",
            "  warnings.warn(\"nn.functional.sigmoid is deprecated. Use torch.sigmoid instead.\")\n"
          ],
          "name": "stderr"
        },
        {
          "output_type": "display_data",
          "data": {
            "image/png": "[encoded data removed]",
            "text/plain": [
              "<Figure size 432x288 with 3 Axes>"
            ]
          },
          "metadata": {
            "tags": [],
            "needs_background": "light"
          }
        },
        {
          "output_type": "stream",
          "text": [
            "843   867\n",
            "271   289\n",
            "0.9377162629757786\n",
            "Epoch:  1  Loss:  0.018279539421200752  Train-Accuracy:  0.972318339100346  Val Loss:  0.040689509361982346  Val-Accuracy:  0.9377162629757786\n"
          ],
          "name": "stdout"
        },
        {
          "output_type": "display_data",
          "data": {
            "image/png": "[encoded data removed]",
            "text/plain": [
              "<Figure size 432x288 with 3 Axes>"
            ]
          },
          "metadata": {
            "tags": [],
            "needs_background": "light"
          }
        },
        {
          "output_type": "stream",
          "text": [
            "845   867\n",
            "273   289\n",
            "0.9446366782006921\n",
            "Epoch:  501  Loss:  0.01628142222762108  Train-Accuracy:  0.9746251441753172  Val Loss:  0.039200350642204285  Val-Accuracy:  0.9446366782006921\n"
          ],
          "name": "stdout"
        },
        {
          "output_type": "display_data",
          "data": {
            "image/png": "[encoded data removed]",
            "text/plain": [
              "<Figure size 432x288 with 3 Axes>"
            ]
          },
          "metadata": {
            "tags": [],
            "needs_background": "light"
          }
        },
        {
          "output_type": "stream",
          "text": [
            "846   867\n",
            "273   289\n",
            "0.9446366782006921\n",
            "Epoch:  1001  Loss:  0.016349023208022118  Train-Accuracy:  0.9757785467128027  Val Loss:  0.038210585713386536  Val-Accuracy:  0.9446366782006921\n"
          ],
          "name": "stdout"
        },
        {
          "output_type": "display_data",
          "data": {
            "image/png": "[encoded data removed]",
            "text/plain": [
              "<Figure size 432x288 with 3 Axes>"
            ]
          },
          "metadata": {
            "tags": [],
            "needs_background": "light"
          }
        },
        {
          "output_type": "stream",
          "text": [
            "846   867\n",
            "273   289\n",
            "0.9446366782006921\n",
            "Epoch:  1501  Loss:  0.017725827172398567  Train-Accuracy:  0.9757785467128027  Val Loss:  0.03719634562730789  Val-Accuracy:  0.9446366782006921\n"
          ],
          "name": "stdout"
        },
        {
          "output_type": "display_data",
          "data": {
            "image/png": "[encoded data removed]",
            "text/plain": [
              "<Figure size 432x288 with 3 Axes>"
            ]
          },
          "metadata": {
            "tags": [],
            "needs_background": "light"
          }
        },
        {
          "output_type": "stream",
          "text": [
            "846   867\n",
            "273   289\n",
            "0.9446366782006921\n",
            "Epoch:  2001  Loss:  0.015937956050038338  Train-Accuracy:  0.9757785467128027  Val Loss:  0.03646213188767433  Val-Accuracy:  0.9446366782006921\n"
          ],
          "name": "stdout"
        },
        {
          "output_type": "display_data",
          "data": {
            "image/png": "[encoded data removed]",
            "text/plain": [
              "<Figure size 432x288 with 3 Axes>"
            ]
          },
          "metadata": {
            "tags": [],
            "needs_background": "light"
          }
        },
        {
          "output_type": "stream",
          "text": [
            "839   867\n",
            "273   289\n",
            "0.9446366782006921\n",
            "Epoch:  2501  Loss:  0.017999963834881783  Train-Accuracy:  0.9677047289504037  Val Loss:  0.03594113141298294  Val-Accuracy:  0.9446366782006921\n"
          ],
          "name": "stdout"
        },
        {
          "output_type": "display_data",
          "data": {
            "image/png": "[encoded data removed]",
            "text/plain": [
              "<Figure size 432x288 with 3 Axes>"
            ]
          },
          "metadata": {
            "tags": [],
            "needs_background": "light"
          }
        },
        {
          "output_type": "stream",
          "text": [
            "845   867\n",
            "273   289\n",
            "0.9446366782006921\n",
            "Epoch:  3001  Loss:  0.015826314687728882  Train-Accuracy:  0.9746251441753172  Val Loss:  0.03531092777848244  Val-Accuracy:  0.9446366782006921\n"
          ],
          "name": "stdout"
        },
        {
          "output_type": "display_data",
          "data": {
            "image/png": "[encoded data removed]",
            "text/plain": [
              "<Figure size 432x288 with 3 Axes>"
            ]
          },
          "metadata": {
            "tags": [],
            "needs_background": "light"
          }
        },
        {
          "output_type": "stream",
          "text": [
            "847   867\n",
            "273   289\n",
            "0.9446366782006921\n",
            "Epoch:  3501  Loss:  0.01585441827774048  Train-Accuracy:  0.9769319492502884  Val Loss:  0.03465230017900467  Val-Accuracy:  0.9446366782006921\n"
          ],
          "name": "stdout"
        },
        {
          "output_type": "display_data",
          "data": {
            "image/png": "[encoded data removed]",
            "text/plain": [
              "<Figure size 432x288 with 3 Axes>"
            ]
          },
          "metadata": {
            "tags": [],
            "needs_background": "light"
          }
        },
        {
          "output_type": "stream",
          "text": [
            "847   867\n",
            "273   289\n",
            "0.9446366782006921\n",
            "Epoch:  4001  Loss:  0.01585364155471325  Train-Accuracy:  0.9769319492502884  Val Loss:  0.03431806340813637  Val-Accuracy:  0.9446366782006921\n"
          ],
          "name": "stdout"
        },
        {
          "output_type": "display_data",
          "data": {
            "image/png": "[encoded data removed]",
            "text/plain": [
              "<Figure size 432x288 with 3 Axes>"
            ]
          },
          "metadata": {
            "tags": [],
            "needs_background": "light"
          }
        },
        {
          "output_type": "stream",
          "text": [
            "847   867\n",
            "273   289\n",
            "0.9446366782006921\n",
            "Epoch:  4501  Loss:  0.015283135697245598  Train-Accuracy:  0.9769319492502884  Val Loss:  0.033704210072755814  Val-Accuracy:  0.9446366782006921\n"
          ],
          "name": "stdout"
        },
        {
          "output_type": "display_data",
          "data": {
            "image/png": "[encoded data removed]",
            "text/plain": [
              "<Figure size 432x288 with 3 Axes>"
            ]
          },
          "metadata": {
            "tags": [],
            "needs_background": "light"
          }
        },
        {
          "output_type": "stream",
          "text": [
            "846   867\n",
            "273   289\n",
            "0.9446366782006921\n",
            "Epoch:  5001  Loss:  0.015564501285552979  Train-Accuracy:  0.9757785467128027  Val Loss:  0.03315308690071106  Val-Accuracy:  0.9446366782006921\n"
          ],
          "name": "stdout"
        },
        {
          "output_type": "display_data",
          "data": {
            "image/png": "[encoded data removed]",
            "text/plain": [
              "<Figure size 432x288 with 3 Axes>"
            ]
          },
          "metadata": {
            "tags": [],
            "needs_background": "light"
          }
        },
        {
          "output_type": "stream",
          "text": [
            "845   867\n",
            "277   289\n",
            "0.9584775086505191\n",
            "Epoch:  5501  Loss:  0.015737228095531464  Train-Accuracy:  0.9746251441753172  Val Loss:  0.03288561478257179  Val-Accuracy:  0.9584775086505191\n"
          ],
          "name": "stdout"
        },
        {
          "output_type": "display_data",
          "data": {
            "image/png": "[encoded data removed]",
            "text/plain": [
              "<Figure size 432x288 with 3 Axes>"
            ]
          },
          "metadata": {
            "tags": [],
            "needs_background": "light"
          }
        },
        {
          "output_type": "stream",
          "text": [
            "846   867\n",
            "278   289\n",
            "0.9619377162629758\n",
            "Epoch:  6001  Loss:  0.015940675511956215  Train-Accuracy:  0.9757785467128027  Val Loss:  0.03250667452812195  Val-Accuracy:  0.9619377162629758\n"
          ],
          "name": "stdout"
        },
        {
          "output_type": "display_data",
          "data": {
            "image/png": "[encoded data removed]",
            "text/plain": [
              "<Figure size 432x288 with 3 Axes>"
            ]
          },
          "metadata": {
            "tags": [],
            "needs_background": "light"
          }
        },
        {
          "output_type": "stream",
          "text": [
            "846   867\n",
            "279   289\n",
            "0.9688581314878892\n",
            "Epoch:  6501  Loss:  0.014473281800746918  Train-Accuracy:  0.9757785467128027  Val Loss:  0.03228095546364784  Val-Accuracy:  0.9653979238754326\n"
          ],
          "name": "stdout"
        },
        {
          "output_type": "display_data",
          "data": {
            "image/png": "[encoded data removed]",
            "text/plain": [
              "<Figure size 432x288 with 3 Axes>"
            ]
          },
          "metadata": {
            "tags": [],
            "needs_background": "light"
          }
        },
        {
          "output_type": "stream",
          "text": [
            "845   867\n",
            "281   289\n",
            "0.972318339100346\n",
            "Epoch:  7001  Loss:  0.014725867658853531  Train-Accuracy:  0.9746251441753172  Val Loss:  0.03199306130409241  Val-Accuracy:  0.972318339100346\n"
          ],
          "name": "stdout"
        },
        {
          "output_type": "display_data",
          "data": {
            "image/png": "[encoded data removed]",
            "text/plain": [
              "<Figure size 432x288 with 3 Axes>"
            ]
          },
          "metadata": {
            "tags": [],
            "needs_background": "light"
          }
        },
        {
          "output_type": "stream",
          "text": [
            "849   867\n",
            "281   289\n",
            "0.972318339100346\n",
            "Epoch:  7501  Loss:  0.014262683689594269  Train-Accuracy:  0.9792387543252595  Val Loss:  0.03167152777314186  Val-Accuracy:  0.972318339100346\n"
          ],
          "name": "stdout"
        },
        {
          "output_type": "display_data",
          "data": {
            "image/png": "[encoded data removed]",
            "text/plain": [
              "<Figure size 432x288 with 3 Axes>"
            ]
          },
          "metadata": {
            "tags": [],
            "needs_background": "light"
          }
        },
        {
          "output_type": "stream",
          "text": [
            "844   867\n",
            "281   289\n",
            "0.972318339100346\n",
            "Epoch:  8001  Loss:  0.014671273529529572  Train-Accuracy:  0.9734717416378316  Val Loss:  0.03147050738334656  Val-Accuracy:  0.972318339100346\n"
          ],
          "name": "stdout"
        },
        {
          "output_type": "display_data",
          "data": {
            "image/png": "[encoded data removed]",
            "text/plain": [
              "<Figure size 432x288 with 3 Axes>"
            ]
          },
          "metadata": {
            "tags": [],
            "needs_background": "light"
          }
        },
        {
          "output_type": "stream",
          "text": [
            "842   867\n",
            "281   289\n",
            "0.972318339100346\n",
            "Epoch:  8501  Loss:  0.015481526032090187  Train-Accuracy:  0.9711649365628604  Val Loss:  0.031095148995518684  Val-Accuracy:  0.972318339100346\n"
          ],
          "name": "stdout"
        },
        {
          "output_type": "display_data",
          "data": {
            "image/png": "[encoded data removed]",
            "text/plain": [
              "<Figure size 432x288 with 3 Axes>"
            ]
          },
          "metadata": {
            "tags": [],
            "needs_background": "light"
          }
        },
        {
          "output_type": "stream",
          "text": [
            "847   867\n",
            "281   289\n",
            "0.972318339100346\n",
            "Epoch:  9001  Loss:  0.013772532343864441  Train-Accuracy:  0.9769319492502884  Val Loss:  0.030969487503170967  Val-Accuracy:  0.972318339100346\n"
          ],
          "name": "stdout"
        },
        {
          "output_type": "display_data",
          "data": {
            "image/png": "[encoded data removed]",
            "text/plain": [
              "<Figure size 432x288 with 3 Axes>"
            ]
          },
          "metadata": {
            "tags": [],
            "needs_background": "light"
          }
        },
        {
          "output_type": "stream",
          "text": [
            "844   867\n",
            "281   289\n",
            "0.972318339100346\n",
            "Epoch:  9501  Loss:  0.014627602882683277  Train-Accuracy:  0.9734717416378316  Val Loss:  0.03080797754228115  Val-Accuracy:  0.972318339100346\n",
            "Finished Training\n"
          ],
          "name": "stdout"
        }
      ]
    },
    {
      "cell_type": "code",
      "metadata": {
        "id": "CIbbjfq3x7zD",
        "colab_type": "code",
        "colab": {
          "base_uri": "https://localhost:8080/",
          "height": 380
        },
        "outputId": "b6822825-cc8e-4a3c-ddd0-1945b2d7fb40"
      },
      "source": [
        "import matplotlib.pyplot as plt\n",
        "def post_process(data):\n",
        "  data = data.detach().numpy()\n",
        "  data = np.reshape(data, newshape=[data.shape[2], data.shape[3]])\n",
        "  return data\n",
        "\n",
        "def preview(inputs, outputs, preds):\n",
        "    inputs = post_process(inputs)\n",
        "    preds = post_process(preds)\n",
        "    outputs = post_process(outputs)\n",
        "    plt.subplot(1,3,1)\n",
        "    plt.imshow(inputs)\n",
        "    plt.title(\"Input\")\n",
        "    plt.subplot(1,3,2)\n",
        "    plt.imshow(preds)\n",
        "    plt.title(\"Prediction\")\n",
        "    plt.subplot(1,3,3)\n",
        "    plt.imshow(outputs)\n",
        "    plt.title(\"GT Output\")\n",
        "    plt.show()\n",
        "\n",
        "\n",
        "model.eval()\n",
        "with torch.no_grad():\n",
        "  for i, data in enumerate(valloader, 0):\n",
        "    inputs, outputs = data\n",
        "    preds = model(inputs)\n",
        "    preview(inputs, outputs, preds)\n",
        "    preview(inputs, outputs, torch.round(preds))"
      ],
      "execution_count": 47,
      "outputs": [
        {
          "output_type": "stream",
          "text": [
            "/usr/local/lib/python3.6/dist-packages/ipykernel_launcher.py:79: UserWarning: To copy construct from a tensor, it is recommended to use sourceTensor.clone().detach() or sourceTensor.clone().detach().requires_grad_(True), rather than torch.tensor(sourceTensor).\n",
            "/usr/local/lib/python3.6/dist-packages/torch/nn/functional.py:1351: UserWarning: nn.functional.sigmoid is deprecated. Use torch.sigmoid instead.\n",
            "  warnings.warn(\"nn.functional.sigmoid is deprecated. Use torch.sigmoid instead.\")\n"
          ],
          "name": "stderr"
        },
        {
          "output_type": "display_data",
          "data": {
            "image/png": "[encoded data removed]",
            "text/plain": [
              "<Figure size 432x288 with 3 Axes>"
            ]
          },
          "metadata": {
            "tags": [],
            "needs_background": "light"
          }
        },
        {
          "output_type": "display_data",
          "data": {
            "image/png": "[encoded data removed]",
            "text/plain": [
              "<Figure size 432x288 with 3 Axes>"
            ]
          },
          "metadata": {
            "tags": [],
            "needs_background": "light"
          }
        }
      ]
    },
    {
      "cell_type": "code",
      "metadata": {
        "id": "f12kA8pE2SFq",
        "colab_type": "code",
        "colab": {
          "base_uri": "https://localhost:8080/",
          "height": 887
        },
        "outputId": "713e448d-8b07-496b-8474-60bdfac89450"
      },
      "source": [
        "import matplotlib.pyplot as plt\n",
        "def post_process(data):\n",
        "  data = data.detach().numpy()\n",
        "  data = np.reshape(data, newshape=[data.shape[2], data.shape[3]])\n",
        "  return data\n",
        "\n",
        "def preview(inputs, outputs, preds):\n",
        "    inputs = post_process(inputs)\n",
        "    preds = post_process(preds)\n",
        "    outputs = post_process(outputs)\n",
        "    plt.subplot(1,3,1)\n",
        "    plt.imshow(inputs)\n",
        "    plt.title(\"Input\")\n",
        "    plt.subplot(1,3,2)\n",
        "    plt.imshow(preds)\n",
        "    plt.title(\"Prediction\")\n",
        "    plt.subplot(1,3,3)\n",
        "    plt.imshow(outputs)\n",
        "    plt.title(\"GT Output\")\n",
        "    plt.show()\n",
        "\n",
        "\n",
        "model.eval()\n",
        "with torch.no_grad():\n",
        "  for i, data in enumerate(trainloader, 0):\n",
        "    inputs, outputs = data\n",
        "    preds = model(inputs)\n",
        "    for i in range(inputs.size(0)):\n",
        "      preview(inputs[i:i+1], outputs[i:i+1], preds[i:i+1])\n",
        "      preview(inputs[i:i+1], outputs[i:i+1], torch.round(preds[i:i+1]))"
      ],
      "execution_count": 18,
      "outputs": [
        {
          "output_type": "display_data",
          "data": {
            "image/png": "[encoded data removed]",
            "text/plain": [
              "<Figure size 432x288 with 3 Axes>"
            ]
          },
          "metadata": {
            "tags": [],
            "needs_background": "light"
          }
        },
        {
          "output_type": "display_data",
          "data": {
            "image/png": "[encoded data removed]",
            "text/plain": [
              "<Figure size 432x288 with 3 Axes>"
            ]
          },
          "metadata": {
            "tags": [],
            "needs_background": "light"
          }
        },
        {
          "output_type": "display_data",
          "data": {
            "image/png": "[encoded data removed]",
            "text/plain": [
              "<Figure size 432x288 with 3 Axes>"
            ]
          },
          "metadata": {
            "tags": [],
            "needs_background": "light"
          }
        },
        {
          "output_type": "display_data",
          "data": {
            "image/png": "[encoded data removed]",
            "text/plain": [
              "<Figure size 432x288 with 3 Axes>"
            ]
          },
          "metadata": {
            "tags": [],
            "needs_background": "light"
          }
        },
        {
          "output_type": "display_data",
          "data": {
            "image/png": "[encoded data removed]",
            "text/plain": [
              "<Figure size 432x288 with 3 Axes>"
            ]
          },
          "metadata": {
            "tags": [],
            "needs_background": "light"
          }
        },
        {
          "output_type": "display_data",
          "data": {
            "image/png": "[encoded data removed]",
            "text/plain": [
              "<Figure size 432x288 with 3 Axes>"
            ]
          },
          "metadata": {
            "tags": [],
            "needs_background": "light"
          }
        }
      ]
    },
    {
      "cell_type": "code",
      "metadata": {
        "id": "AiNdt5ppAzQL",
        "colab_type": "code",
        "colab": {}
      },
      "source": [
        ""
      ],
      "execution_count": 0,
      "outputs": []
    }
  ]
}